{
  "nbformat": 4,
  "nbformat_minor": 0,
  "metadata": {
    "kernelspec": {
      "display_name": "Python 3",
      "language": "python",
      "name": "python3"
    },
    "language_info": {
      "codemirror_mode": {
        "name": "ipython",
        "version": 3
      },
      "file_extension": ".py",
      "mimetype": "text/x-python",
      "name": "python",
      "nbconvert_exporter": "python",
      "pygments_lexer": "ipython3",
      "version": "3.7.3"
    },
    "colab": {
      "name": "spam.ipynb",
      "version": "0.3.2",
      "provenance": [],
      "include_colab_link": true
    }
  },
  "cells": [
    {
      "cell_type": "markdown",
      "metadata": {
        "id": "view-in-github",
        "colab_type": "text"
      },
      "source": [
        "<a href=\"https://colab.research.google.com/github/akanshak984/Spam-Filter/blob/master/spam.ipynb\" target=\"_parent\"><img src=\"https://colab.research.google.com/assets/colab-badge.svg\" alt=\"Open In Colab\"/></a>"
      ]
    },
    {
      "cell_type": "code",
      "metadata": {
        "id": "my4v0c9n0uRf",
        "colab_type": "code",
        "colab": {},
        "outputId": "9597e9d4-0ca4-417f-b7db-a29cf886f572"
      },
      "source": [
        "import numpy as np\n",
        "import pandas as pd\n",
        "import nltk\n",
        "import string\n",
        "from nltk.corpus import stopwords\n",
        "from nltk import PorterStemmer as Stemmer\n",
        "data = pd.read_csv(\"spam.csv\")\n",
        "data.head()"
      ],
      "execution_count": 0,
      "outputs": [
        {
          "output_type": "execute_result",
          "data": {
            "text/html": [
              "<div>\n",
              "<style scoped>\n",
              "    .dataframe tbody tr th:only-of-type {\n",
              "        vertical-align: middle;\n",
              "    }\n",
              "\n",
              "    .dataframe tbody tr th {\n",
              "        vertical-align: top;\n",
              "    }\n",
              "\n",
              "    .dataframe thead th {\n",
              "        text-align: right;\n",
              "    }\n",
              "</style>\n",
              "<table border=\"1\" class=\"dataframe\">\n",
              "  <thead>\n",
              "    <tr style=\"text-align: right;\">\n",
              "      <th></th>\n",
              "      <th>v1</th>\n",
              "      <th>v2</th>\n",
              "      <th>Unnamed: 2</th>\n",
              "      <th>Unnamed: 3</th>\n",
              "      <th>Unnamed: 4</th>\n",
              "    </tr>\n",
              "  </thead>\n",
              "  <tbody>\n",
              "    <tr>\n",
              "      <th>0</th>\n",
              "      <td>ham</td>\n",
              "      <td>Go until jurong point, crazy.. Available only ...</td>\n",
              "      <td>NaN</td>\n",
              "      <td>NaN</td>\n",
              "      <td>NaN</td>\n",
              "    </tr>\n",
              "    <tr>\n",
              "      <th>1</th>\n",
              "      <td>ham</td>\n",
              "      <td>Ok lar... Joking wif u oni...</td>\n",
              "      <td>NaN</td>\n",
              "      <td>NaN</td>\n",
              "      <td>NaN</td>\n",
              "    </tr>\n",
              "    <tr>\n",
              "      <th>2</th>\n",
              "      <td>spam</td>\n",
              "      <td>Free entry in 2 a wkly comp to win FA Cup fina...</td>\n",
              "      <td>NaN</td>\n",
              "      <td>NaN</td>\n",
              "      <td>NaN</td>\n",
              "    </tr>\n",
              "    <tr>\n",
              "      <th>3</th>\n",
              "      <td>ham</td>\n",
              "      <td>U dun say so early hor... U c already then say...</td>\n",
              "      <td>NaN</td>\n",
              "      <td>NaN</td>\n",
              "      <td>NaN</td>\n",
              "    </tr>\n",
              "    <tr>\n",
              "      <th>4</th>\n",
              "      <td>ham</td>\n",
              "      <td>Nah I don't think he goes to usf, he lives aro...</td>\n",
              "      <td>NaN</td>\n",
              "      <td>NaN</td>\n",
              "      <td>NaN</td>\n",
              "    </tr>\n",
              "  </tbody>\n",
              "</table>\n",
              "</div>"
            ],
            "text/plain": [
              "     v1                                                 v2 Unnamed: 2  \\\n",
              "0   ham  Go until jurong point, crazy.. Available only ...        NaN   \n",
              "1   ham                      Ok lar... Joking wif u oni...        NaN   \n",
              "2  spam  Free entry in 2 a wkly comp to win FA Cup fina...        NaN   \n",
              "3   ham  U dun say so early hor... U c already then say...        NaN   \n",
              "4   ham  Nah I don't think he goes to usf, he lives aro...        NaN   \n",
              "\n",
              "  Unnamed: 3 Unnamed: 4  \n",
              "0        NaN        NaN  \n",
              "1        NaN        NaN  \n",
              "2        NaN        NaN  \n",
              "3        NaN        NaN  \n",
              "4        NaN        NaN  "
            ]
          },
          "metadata": {
            "tags": []
          },
          "execution_count": 1
        }
      ]
    },
    {
      "cell_type": "code",
      "metadata": {
        "id": "QKG0-wIa0uRr",
        "colab_type": "code",
        "colab": {},
        "outputId": "fec4fb24-5bd8-40e7-cb72-8a48233f4750"
      },
      "source": [
        "# remove the empty valued columns\n",
        "data = data.drop(data.columns[[2, 4, 3]], axis=1)       \n",
        "# rename column name v1 with spam and v2 with email\n",
        "data.rename(columns={'v1': 'spam', 'v2': 'email'}, inplace=True)  \n",
        "# replace all spam with 1\n",
        "data.loc[data['spam']=='spam', 'spam'] = 1          \n",
        "# replace all ham with 0\n",
        "data.loc[data['spam']=='ham', 'spam'] = 0      \n",
        "# interchange columns\n",
        "data = data[['email', 'spam']]                          \n",
        "\n",
        "data.head()"
      ],
      "execution_count": 0,
      "outputs": [
        {
          "output_type": "execute_result",
          "data": {
            "text/html": [
              "<div>\n",
              "<style scoped>\n",
              "    .dataframe tbody tr th:only-of-type {\n",
              "        vertical-align: middle;\n",
              "    }\n",
              "\n",
              "    .dataframe tbody tr th {\n",
              "        vertical-align: top;\n",
              "    }\n",
              "\n",
              "    .dataframe thead th {\n",
              "        text-align: right;\n",
              "    }\n",
              "</style>\n",
              "<table border=\"1\" class=\"dataframe\">\n",
              "  <thead>\n",
              "    <tr style=\"text-align: right;\">\n",
              "      <th></th>\n",
              "      <th>email</th>\n",
              "      <th>spam</th>\n",
              "    </tr>\n",
              "  </thead>\n",
              "  <tbody>\n",
              "    <tr>\n",
              "      <th>0</th>\n",
              "      <td>Go until jurong point, crazy.. Available only ...</td>\n",
              "      <td>0</td>\n",
              "    </tr>\n",
              "    <tr>\n",
              "      <th>1</th>\n",
              "      <td>Ok lar... Joking wif u oni...</td>\n",
              "      <td>0</td>\n",
              "    </tr>\n",
              "    <tr>\n",
              "      <th>2</th>\n",
              "      <td>Free entry in 2 a wkly comp to win FA Cup fina...</td>\n",
              "      <td>1</td>\n",
              "    </tr>\n",
              "    <tr>\n",
              "      <th>3</th>\n",
              "      <td>U dun say so early hor... U c already then say...</td>\n",
              "      <td>0</td>\n",
              "    </tr>\n",
              "    <tr>\n",
              "      <th>4</th>\n",
              "      <td>Nah I don't think he goes to usf, he lives aro...</td>\n",
              "      <td>0</td>\n",
              "    </tr>\n",
              "  </tbody>\n",
              "</table>\n",
              "</div>"
            ],
            "text/plain": [
              "                                               email spam\n",
              "0  Go until jurong point, crazy.. Available only ...    0\n",
              "1                      Ok lar... Joking wif u oni...    0\n",
              "2  Free entry in 2 a wkly comp to win FA Cup fina...    1\n",
              "3  U dun say so early hor... U c already then say...    0\n",
              "4  Nah I don't think he goes to usf, he lives aro...    0"
            ]
          },
          "metadata": {
            "tags": []
          },
          "execution_count": 2
        }
      ]
    },
    {
      "cell_type": "code",
      "metadata": {
        "id": "g6Qg5gL20uRz",
        "colab_type": "code",
        "colab": {}
      },
      "source": [
        "from sklearn.model_selection import train_test_split\n",
        "x = data[\"email\"]\n",
        "y = data[\"spam\"]\n",
        "x_train, x_test, y_train, y_test = train_test_split(x,y,test_size=0.33)\n",
        "\n",
        "#variables, dictionary, list used\n",
        "positiveTotal = 0\n",
        "negativeTotal = 0\n",
        "pA = 0\n",
        "pNotA = 0\n",
        "trainPositive = {}\n",
        "trainNegative = {}\n",
        "totalWords = []\n",
        "alpha = 1"
      ],
      "execution_count": 0,
      "outputs": []
    },
    {
      "cell_type": "code",
      "metadata": {
        "id": "ZymOjH-m0uR4",
        "colab_type": "code",
        "colab": {}
      },
      "source": [
        "def process(text):   \n",
        "    # lowercase it \n",
        "    text = text.lower()           \n",
        "    # remove punctuation  \n",
        "    text = ''.join([t for t in text if t not in string.punctuation])       \n",
        "    # remove stopwords  \n",
        "    text = [t for t in text.split() if t not in stopwords.words('english')]   \n",
        "    # stemming\n",
        "    st = Stemmer()                                                             \n",
        "    text = [st.stem(t) for t in text]   \n",
        "    # return token list\n",
        "    return text                                                                \n",
        "\n",
        "#reading words from a specific email\n",
        "def processEmail(body, label):\n",
        "    global positiveTotal, negativeTotal, totalWords\n",
        "    body = process (body)\n",
        "    for word in body:\n",
        "        if label == 1:\n",
        "            trainPositive[word] = trainPositive.get(word, 0) + 1\n",
        "            positiveTotal += 1\n",
        "        else:\n",
        "             trainNegative[word] = trainNegative.get(word, 0) + 1             \n",
        "             negativeTotal += 1  \n",
        "        totalWords.append(word)\n",
        "\n",
        "def train():  \n",
        "  global pA, pNotA  \n",
        "  total = 0\n",
        "  numSpam = 0\n",
        "  for email,spam in zip(x_train,y_train):\n",
        "     if spam == 1 :           \n",
        "       numSpam +=1\n",
        "     total += 1\n",
        "     processEmail(email, spam)\n",
        "     pA = numSpam/float(total)\n",
        "     pNotA = 1-pA\n",
        "    \n",
        "train()    "
      ],
      "execution_count": 0,
      "outputs": []
    },
    {
      "cell_type": "code",
      "metadata": {
        "id": "YKPs_9YZ0uR_",
        "colab_type": "code",
        "colab": {},
        "outputId": "01af8055-5e74-4d13-8c64-85c08945fae0"
      },
      "source": [
        "#input text to classify spam/ham\n",
        "text = input(\"Enter the Text: \")                                  \n",
        "     \n",
        "#gives the conditional probability p(B_i/A_x)\n",
        "def conditionalWord(word, spam):   \n",
        "    global alpha, numWords\n",
        "    if spam:\n",
        "       return (trainPositive.get(word,0)+alpha)/(float)(positiveTotal+alpha*numWords)\n",
        "    return (trainNegative.get(word,0)+alpha)/(float)(negativeTotal+alpha*numWords)\n",
        "\n",
        "def conditionalEmail(body, spam) :    \n",
        "  result =1.0\n",
        "  for word in body:\n",
        "    result *= conditionalWord(word, spam)\n",
        "  return result\n",
        "\n",
        "#classifies a new email as spam or not spam\n",
        "def classify(email):\n",
        "  global pA, pNotA, numWords, totalWords  \n",
        "  numWords=len(set(totalWords))\n",
        "  isSpam = pA * conditionalEmail(email, True)        # P(A|B)\n",
        "  notSpam = pNotA * conditionalEmail(email, False)   # P(¬A|B)  \n",
        "  return isSpam > notSpam\n",
        "  \n",
        "x=classify(text)\n",
        "\n",
        "if(x==1):\n",
        "    print (\"The text entered is Spam\")\n",
        "else:\n",
        "    print (\"The text entered is Not Spam\")\n"
      ],
      "execution_count": 0,
      "outputs": [
        {
          "output_type": "stream",
          "text": [
            "Enter the Text: Sign up today\n",
            "The text entered is Spam\n"
          ],
          "name": "stdout"
        }
      ]
    }
  ]
}